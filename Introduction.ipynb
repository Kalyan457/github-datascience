{
 "cells": [
  {
   "cell_type": "markdown",
   "metadata": {},
   "source": [
    "# Introduction/Business Problem:"
   ]
  },
  {
   "cell_type": "markdown",
   "metadata": {},
   "source": [
    "The problem statement is that if a person is willing to start a new business in a locality, I should be able to show him the prospective location in which he can establish his business and gain more profits based on the location advantages.\n",
    "\n",
    "\n",
    "\n",
    "To start a new business there should be many factors that should be considered before establishing the business. The main focus point is, one should look for the number of people in the locality and their spending habits. If a business is started in a location in which there are less number of people and they do not spend much amount, then that business will not give returns.\n",
    "\n",
    "\n",
    "\n",
    "Also the new business firm and its services should be available and in reach to the customers. So, if one establishes his business in far remote location where people cannot reach, it doesn’t give visibility to the new business and it results in the loss of the organization.\n",
    "\n",
    "\n",
    "\n",
    "If there are similar kind of already established businesses and if this new business is established in that location, then there will be huge competition and there will not be much profits. So, whenever a person is starting a new business all the above mentioned points must be taken into consideration to gain more from the business.\n",
    "\n",
    "\n",
    "\n",
    "So one should have the previously established firm’s data and the neighbourhood data so that he can get the insight of the locality.\n",
    "\n",
    "\n",
    "\n",
    "Now the question is where one can find that information? The possible answer is the usage of Foursquare location data services which provides ample information on how the data can be retrieved and how that can be used to get the insights from the data to solve the problem at hand.\n",
    "\n",
    "\n",
    "\n",
    "Foursquare provides the information on the venues that are available in a certain locality by passing the necessary inputs to the API, and in return it provides the list of places that are in and around the location.\n",
    "\n",
    "The target audience for this will be those whoever is interested in starting a new business and wants to get the overview of the location possibilities through which one can improve their business.\n"
   ]
  },
  {
   "cell_type": "markdown",
   "metadata": {},
   "source": [
    "# Data Section"
   ]
  },
  {
   "cell_type": "markdown",
   "metadata": {},
   "source": [
    "We have the dataset which is having four columns which contains the postal code, borough, neighbourhood, latitude and longitude of the neighbourhoods. We can get the venues of that neighbourhood by passing the latitude and longitude of the neighbourhood to the four square API. \n",
    "\n",
    "We can take the count of the venues available in the neighbourhood and based on the count and the distance metrics we can predict the location in which one can make the better use of the location. \n",
    "\n",
    "We can also get the frequency of the venues available and then make a suggestion on which place is best suitable for establishing the new business. \n",
    "\n",
    "We can also get the most common venue at a given location and to which venue most people are willing to go.\n",
    "\n",
    "We can then analyse the neighbourhood and suggest the place which is best suitable for establishing the new business.\n",
    "\n",
    "We can take the features like the distribution of the businesses, density of the locality, living habits, popular venues.\n"
   ]
  },
  {
   "cell_type": "code",
   "execution_count": null,
   "metadata": {},
   "outputs": [],
   "source": []
  }
 ],
 "metadata": {
  "kernelspec": {
   "display_name": "Python 2",
   "language": "python",
   "name": "python2"
  },
  "language_info": {
   "codemirror_mode": {
    "name": "ipython",
    "version": 2
   },
   "file_extension": ".py",
   "mimetype": "text/x-python",
   "name": "python",
   "nbconvert_exporter": "python",
   "pygments_lexer": "ipython2",
   "version": "2.7.9"
  }
 },
 "nbformat": 4,
 "nbformat_minor": 2
}
